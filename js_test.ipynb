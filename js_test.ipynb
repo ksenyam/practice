{
 "cells": [
  {
   "cell_type": "code",
   "execution_count": null,
   "metadata": {},
   "outputs": [],
   "source": [
    "import pandas\n",
    "\n",
    "dfa = pd.read_csv(\"dfa.csv\")\n",
    "srcs = list(dfa[\"source\"].unique())\n",
    "\n",
    "def build_nodes(srcs, src_names):\n",
    "    for srcn in srcs:\n",
    "        output += \"{category: %d, experience: '%s'}%(srcn, src_name),\"\n"
   ]
  },
  {
   "cell_type": "code",
   "execution_count": 13,
   "metadata": {},
   "outputs": [
    {
     "name": "stdout",
     "output_type": "stream",
     "text": [
      "['#7FFFD4', '#8A2BE2', '#A52A2A', '#DEB887', '#5F9EA0', '#7FFF00', '#D2691E', '#6495ED', '#DC143C', '#B8860B', '#A9A9A9', '#A9A9A9', '#BDB76B', '#8B008B', '#556B2F', '#9932CC', '#8B0000', '#E9967A', '#8FBC8F', '#483D8B', '#2F4F4F', '#2F4F4F', '#9400D3', '#696969', '#696969', '#B22222', '#228B22', '#DCDCDC', '#DAA520', '#808080', '#ADFF2F', '#808080', '#CD5C5C', '#4B0082', '#E6E6FA', '#7CFC00', '#ADD8E6', '#E0FFFF', '#D3D3D3', '#90EE90', '#D3D3D3', '#87CEFA', '#778899', '#778899', '#B0C4DE', '#32CD32', '#800000', '#66CDAA', '#BA55D3', '#9370DB', '#3CB371', '#7B68EE', '#48D1CC', '#C71585', '#808000', '#6B8E23', '#DA70D6', '#EEE8AA', '#98FB98', '#AFEEEE', '#DB7093', '#CD853F', '#DDA0DD', '#B0E0E6', '#800080', '#663399', '#BC8F8F', '#4169E1', '#8B4513', '#2E8B57', '#A0522D', '#C0C0C0', '#87CEEB', '#6A5ACD', '#708090', '#708090', '#4682B4', '#D2B48C', '#D8BFD8', '#40E0D0', '#EE82EE', '#9ACD32']\n"
     ]
    },
    {
     "data": {
      "text/html": [
       "<a href='new.html', target='blank'>javascript</a>"
      ],
      "text/plain": [
       "<IPython.core.display.HTML object>"
      ]
     },
     "metadata": {},
     "output_type": "display_data"
    }
   ],
   "source": [
    "import matplotlib._color_data as mcd-----\n",
    "from IPython.core.display import display, HTML, Javascript\n",
    "import json\n",
    "\n",
    "\n",
    "\n",
    "cn = [i for i in list(mcd.CSS4_COLORS.values()) if int(i[1:], 16) < 0xeeeeee and int(i[1:], 16) > 0x222222]\n",
    "print(cn)\n",
    "with open('index.html', 'r') as F:\n",
    "    f = F.read().replace('\"', \"'\")\n",
    "    f = f.replace(\"**COLORS**\", str(cn))\n",
    "\n",
    "    with open(\"new.html\", 'w') as G:\n",
    "        G.write(f)\n",
    "\n",
    "\n",
    "\n",
    "display(HTML(\"<a href='new.html', target='blank'>javascript</a>\"))\n"
   ]
  },
  {
   "cell_type": "code",
   "execution_count": null,
   "metadata": {},
   "outputs": [],
   "source": []
  },
  {
   "cell_type": "code",
   "execution_count": null,
   "metadata": {},
   "outputs": [],
   "source": []
  },
  {
   "cell_type": "code",
   "execution_count": null,
   "metadata": {},
   "outputs": [],
   "source": []
  }
 ],
 "metadata": {
  "kernelspec": {
   "display_name": "Python 3",
   "language": "python",
   "name": "python3"
  },
  "language_info": {
   "codemirror_mode": {
    "name": "ipython",
    "version": 3
   },
   "file_extension": ".py",
   "mimetype": "text/x-python",
   "name": "python",
   "nbconvert_exporter": "python",
   "pygments_lexer": "ipython3",
   "version": "3.7.6"
  }
 },
 "nbformat": 4,
 "nbformat_minor": 4
}
